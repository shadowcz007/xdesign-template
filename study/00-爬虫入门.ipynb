{
 "cells": [
  {
   "cell_type": "code",
   "execution_count": 2,
   "metadata": {},
   "outputs": [
    {
     "name": "stdout",
     "output_type": "stream",
     "text": [
      "编码： %E7%BE%8E%E9%A3%9F%E6%B5%B7%E6%8A%A5\n",
      "解码： 美食海报\n"
     ]
    }
   ],
   "source": [
    "#url编码, URL 只能使用 ASCII 字符集. 来通过因特网进行发送\n",
    "import urllib\n",
    "\n",
    "print('编码：',urllib.parse.quote(\"美食海报\"))\n",
    "print( '解码：',urllib.parse.unquote('%E7%BE%8E%E9%A3%9F%E6%B5%B7%E6%8A%A5', encoding='utf-8', errors='replace'))"
   ]
  },
  {
   "cell_type": "code",
   "execution_count": 7,
   "metadata": {},
   "outputs": [
    {
     "name": "stdout",
     "output_type": "stream",
     "text": [
      "这是一个''字符串 这是第二个\"\" 哈哈哈\n",
      "哈哈\n",
      "换行\n",
      " hello\n"
     ]
    }
   ],
   "source": [
    "字符串=\"hello\"\n",
    "\n",
    "a=\"这是一个''字符串\"\n",
    "b='这是第二个\"\"'\n",
    "\n",
    "m='''这是第3个字符串，可以换行的那种，\n",
    "哈哈哈\n",
    "哈哈\n",
    "'''\n",
    "\n",
    "print(a,b,m,字符串)"
   ]
  },
  {
   "cell_type": "code",
   "execution_count": null,
   "metadata": {},
   "outputs": [],
   "source": [
    "# # 注释\n",
    "# lll\n",
    "# ll\n",
    "\n",
    "# # kkk\n",
    "# # ll"
   ]
  },
  {
   "cell_type": "code",
   "execution_count": 10,
   "metadata": {},
   "outputs": [
    {
     "name": "stdout",
     "output_type": "stream",
     "text": [
      "{'key': 'value', '设计': 'behance.com', '建筑': 'biying'}\n"
     ]
    },
    {
     "data": {
      "text/plain": [
       "'behance.com'"
      ]
     },
     "execution_count": 10,
     "metadata": {},
     "output_type": "execute_result"
    }
   ],
   "source": [
    "#{}\n",
    "#字典\n",
    "\n",
    "k={\n",
    "    \"key\":\"value\",\n",
    "    \"设计\":\"behance.com\",\n",
    "    \"建筑\":\"biying\",\n",
    "}\n",
    "\n",
    "print(k)\n",
    "\n",
    "k[\"设计\"]"
   ]
  },
  {
   "cell_type": "code",
   "execution_count": 1,
   "metadata": {},
   "outputs": [
    {
     "name": "stdout",
     "output_type": "stream",
     "text": [
      "https://cn.bing.com/images/search?q=%E9%9B%B6%E9%A3%9F%E6%B5%B7%E6%8A%A5\n"
     ]
    }
   ],
   "source": [
    "#最小demo  #无头浏览器\n",
    "import asyncio # \n",
    "from pyppeteer import launch\n",
    "import urllib\n",
    "\n",
    "topic=\"零食海报\"\n",
    "\n",
    "url='https://cn.bing.com/images/search?q='+urllib.parse.quote(topic)\n",
    "print(url)\n",
    "\n",
    "# def 方法名(参数):\n",
    "#     print()\n",
    "#     return \n",
    "\n",
    "\n",
    "#异步、同步\n",
    "async def main():\n",
    "    #浏览器打开，默认是无头浏览器\n",
    "    browser = await launch(headless=False)\n",
    "    #新开tab\n",
    "    page = await browser.newPage()\n",
    "    #跳转至新的url\n",
    "    await page.goto(url)\n",
    "    \n",
    "    #截图,    {'键名':'键值'}\n",
    "    await page.screenshot({\n",
    "        'path': '0001.jpg'\n",
    "    })\n",
    "    \n",
    "    #关闭浏览器\n",
    "    await browser.close()\n",
    "    \n",
    "#jupyter 已经运行了loop，无需自己激活\n",
    "#asyncio.get_event_loop().run_until_complete(main())\n",
    "\n",
    "await main()"
   ]
  },
  {
   "cell_type": "code",
   "execution_count": 15,
   "metadata": {},
   "outputs": [],
   "source": [
    "def 方法(参数):\n",
    "    print(参数['path'])\n",
    "    #print(参数)\n",
    "    return"
   ]
  },
  {
   "cell_type": "code",
   "execution_count": 16,
   "metadata": {},
   "outputs": [
    {
     "name": "stdout",
     "output_type": "stream",
     "text": [
      "路径是什么\n"
     ]
    }
   ],
   "source": [
    "方法({\n",
    "    \"path\":\"路径是什么\"\n",
    "})"
   ]
  },
  {
   "cell_type": "code",
   "execution_count": 21,
   "metadata": {},
   "outputs": [],
   "source": [
    "# 待下载的图片url\n",
    "images={}"
   ]
  },
  {
   "cell_type": "code",
   "execution_count": null,
   "metadata": {},
   "outputs": [],
   "source": [
    "from pyppeteer import launch\n",
    "\n",
    "url='https://cn.bing.com/images/search?q=%E7%BE%8E%E9%A3%9F%E6%B5%B7%E6%8A%A5'\n",
    "\n",
    "#试试修改headless\n",
    "browser = await launch(headless=True)\n",
    "page = await browser.newPage()\n",
    "await page.goto(url)\n",
    "\n",
    "#页面等待时间,ms, \n",
    "await page.waitFor(2500)\n",
    "\n",
    "#注入js代码，获取页面里所有图片url\n",
    "#配合chrome的console演示\n",
    "async def get_imgs(page):\n",
    "    imgs = await page.evaluate('''() => {\n",
    "            return Array.from(document.images,img=>{\n",
    "                    if(img.alt.match('美食')&&img.src.match('https://')){\n",
    "                        return img.src;\n",
    "                    }\n",
    "                }).filter(img=>{return !!img});\n",
    "        }''')\n",
    "    return imgs\n",
    "\n",
    "#当图片数量大于 100的时候，停止\n",
    "while len(images)<100:\n",
    "    imgs=await get_imgs(page)\n",
    "    #python 列表，javscript 数组\n",
    "    # [\"http://www\",\"xxxx\",\"xxxx\"]\n",
    "    for img in imgs:\n",
    "        #字典，如何赋值\n",
    "        images[img]=1\n",
    "        \n",
    "    await page.evaluate('''() => {\n",
    "            return window.scrollTo(100,document.body.scrollHeight);\n",
    "        }''')\n",
    "    print(len(images))\n",
    "    await page.waitFor(2500)\n",
    "    \n",
    "    \n",
    "#关闭浏览器\n",
    "await browser.close()"
   ]
  },
  {
   "cell_type": "code",
   "execution_count": null,
   "metadata": {},
   "outputs": [],
   "source": [
    "list(images.keys())"
   ]
  },
  {
   "cell_type": "code",
   "execution_count": null,
   "metadata": {},
   "outputs": [],
   "source": [
    "#根据url下载图片至本地,路径？\n",
    "import requests\n",
    "def download_img(img_url,file_path='test.png'):\n",
    "    print (img_url)\n",
    "    r = requests.get(img_url, stream=True)\n",
    "    print(r.status_code) # 返回状态码\n",
    "    if r.status_code == 200:\n",
    "        open(file_path, 'wb').write(r.content) # 将内容写入图片\n",
    "        print(\"done\")\n",
    "    del r\n",
    "#download_img(list(images.keys())[0])"
   ]
  },
  {
   "cell_type": "code",
   "execution_count": null,
   "metadata": {},
   "outputs": [],
   "source": [
    "#全部下载保存,# enumerate\n",
    "for i,img in enumerate(images.keys()):\n",
    "    #print(i)\n",
    "    download_img(img,\"img/img_\"+str(i)+\".png\")"
   ]
  }
 ],
 "metadata": {
  "kernelspec": {
   "display_name": "Python 3",
   "language": "python",
   "name": "python3"
  },
  "language_info": {
   "codemirror_mode": {
    "name": "ipython",
    "version": 3
   },
   "file_extension": ".py",
   "mimetype": "text/x-python",
   "name": "python",
   "nbconvert_exporter": "python",
   "pygments_lexer": "ipython3",
   "version": "3.8.3"
  }
 },
 "nbformat": 4,
 "nbformat_minor": 4
}
