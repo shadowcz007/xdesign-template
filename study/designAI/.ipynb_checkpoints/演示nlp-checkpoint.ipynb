{
 "cells": [
  {
   "cell_type": "code",
   "execution_count": 1,
   "metadata": {},
   "outputs": [],
   "source": [
    "import jieba"
   ]
  },
  {
   "cell_type": "code",
   "execution_count": 2,
   "metadata": {},
   "outputs": [
    {
     "name": "stderr",
     "output_type": "stream",
     "text": [
      "Building prefix dict from the default dictionary ...\n",
      "Loading model from cache /var/folders/fr/6hzjr60j4079v9lz6220zk2w0000gn/T/jieba.cache\n",
      "Loading model cost 0.702 seconds.\n",
      "Prefix dict has been built successfully.\n"
     ]
    }
   ],
   "source": [
    "txt='''延伸阅读：\n",
    "\n",
    "昨晚，东京奥运会乒乓球女子团体决赛展开巅峰之争。中国队仅失两局，直落三盘击败混双冠军伊藤美诚领衔的东道主日本队，自该项目“入奥”以来四届比赛未令金牌旁落。\n",
    "\n",
    "此前三轮，中、日两队均一盘未失，且两队都只在单打中丢掉两个局分，较其他球队优势明显。两队在决赛中相遇可谓“众望所归”，就连陈梦都直言对这场对决“期待已久”。半决赛后，中国女队主教练李隼则低调表示：双方实力差不多，决赛就看谁能豁得出去。\n",
    "\n",
    "本场决战，双方开场便展开激烈争夺。首盘双打较量，两对组合都迅速进入状态。女双世界排名第一的石川佳纯/平野美宇稍占优势，两人抓住陈梦/王曼昱均为右手持拍的劣势展开进攻，以11比9赢下首局。中国组合则在第二局中增加了发球的变化，并抓住对手失误增多的机会拉开分差，最多时曾领先8分，以11比6扳回一局。\n",
    "\n",
    "第三局，双方僵持至8平后，陈梦/王曼昱在关键分上展现出更胜一筹的个人能力，以11比8再下一城。第四局，中国组合取得领先后，日本组合一度通过调整进攻线路将比分追至7比8。但陈梦/王曼昱马上连得4分，以11比7为中国队取得“开门红”。\n",
    "\n",
    "随后是双方第一单打之间的对决，由世界排名第二的孙颖莎对排名第三的伊藤美诚。两人此前曾在成年赛场交手8次，孙颖莎握有7胜1负的绝对优势。而在最近一次交手，即一周前的本届奥运会女单半决赛中，面对坐拥主场之利、刚刚摘下混双金牌的同龄人，孙颖莎不仅以4比0横扫对手，且在第二局打出8比0的得分高潮，将一向以心理素质著称的伊藤美诚彻底击溃。\n",
    "\n",
    "今晚的“二番战”，胜利依然属于中国新星。首局比赛，两人一度交替领先。孙颖莎在6比8落后时连得5分，以11比8先声夺人。次局，孙颖莎又在两人僵持至5平后连得6分，尽管日本队及时请求暂停，也未能遏制住中国队的得分势头。第三局，伊藤美诚凭借凶狠的搏杀以11比3扳回一局。但孙颖莎马上还以颜色，以同样比分拿下第四局，并以3比1为中国队再得一分。\n",
    "\n",
    "第三盘单打上演了一场“青春对决”，对阵双方是22岁的王曼昱和21岁的平野美宇。后者世界排名第12位，与伊藤美诚同为日本乒协为了在主场夺金花费两个奥运周期“断代培养”的选手，曾在2017年亚锦赛中连胜三名国乒主力爆冷夺冠，但此后在重要赛事中再无建树。两人此前仅在2018年交手过一次，当时王曼昱以4比1取胜。\n",
    "\n",
    "此番再度交锋，世界排名第四位的王曼昱依然没有给对手翻盘的机会。首局比赛，王曼昱以11比5胜出。第二局，平野美宇依靠速度打乱王曼昱的节奏，一度以微弱优势领先。王曼昱则紧紧咬住对手，并在局末阶段发力，以11比9逆转对手。第三局，中国姑娘气势如虹，以11比3为中国队锁定女团4连冠。\n",
    "\n",
    "赛后接受采访时，陈梦开玩笑说，因为自己这场决赛是打双打，相对任务比较轻，是跟两个年轻队员蹭了个冠军。\n",
    "\n",
    "（原标题：陈梦父母：等女儿归来后先送上拥抱 最爱的蒜蓉大虾也安排上）\n",
    "\n",
    "来源：综合大众新闻 北京日报客户端 中新网'''\n",
    "words = jieba.lcut(txt)"
   ]
  },
  {
   "cell_type": "code",
   "execution_count": 10,
   "metadata": {},
   "outputs": [],
   "source": [
    "import jieba.posseg as psg\n",
    " \n",
    "words_list = psg.cut(\"马云和阿里巴巴,马云套现，马云在哪里\")\n",
    "\n",
    "nrs={}\n",
    "\n",
    "for word in words_list:\n",
    "#     print([word.word, word.flag])\n",
    "    if word.flag=='nr':\n",
    "        #print(word.word)\n",
    "        if not word.word in nrs:\n",
    "            nrs[word.word]=0\n",
    "        nrs[word.word]+=1"
   ]
  },
  {
   "cell_type": "code",
   "execution_count": 11,
   "metadata": {},
   "outputs": [
    {
     "data": {
      "text/plain": [
       "{'马云': 3}"
      ]
     },
     "execution_count": 11,
     "metadata": {},
     "output_type": "execute_result"
    }
   ],
   "source": [
    "nrs"
   ]
  },
  {
   "cell_type": "code",
   "execution_count": 16,
   "metadata": {},
   "outputs": [
    {
     "name": "stdout",
     "output_type": "stream",
     "text": [
      "城市绿化\n",
      "城市\n"
     ]
    }
   ],
   "source": [
    "import jieba.analyse\n",
    " \n",
    "text = '城市绿化是栽种植物以改善城市环境的活动。 城市绿化作为城市生态系统中的还原组织 城市生态系统具有受到外来干扰和破坏而恢复原状的能力，就是通常所说的城市生态系统的还原功能。'\n",
    "\n",
    "#准备一个关键词库\n",
    "keywords=[\n",
    "    \"城市绿化\",\n",
    "    \"城市\",\n",
    "    \"植物\"\n",
    "]\n",
    "\n",
    "\n",
    "#获取关键词\n",
    "tags = jieba.analyse.extract_tags(text, topK=10)\n",
    "# print(\"关键词:\")\n",
    "# print(\" \".join(tags))\n",
    "for tag in tags:\n",
    "#     print(tag)\n",
    "    if tag in keywords:\n",
    "        print(tag)\n",
    "    "
   ]
  },
  {
   "cell_type": "code",
   "execution_count": 17,
   "metadata": {},
   "outputs": [
    {
     "name": "stdout",
     "output_type": "stream",
     "text": [
      "2021-08-06 10:46:11,464 - INFO - Lock 140231376917600 acquired on /Users/shadow/.paddlehub/tmp/senta_bilstm\n",
      "Download https://bj.bcebos.com/paddlehub/paddlehub_dev/senta_bilstm_1.2.0.tar.gz\n",
      "[##################################################] 100.00%\n",
      "Decompress /Users/shadow/.paddlehub/tmp/tmpgqpe4g6b/senta_bilstm_1.2.0.tar.gz\n",
      "[##################################################] 100.00%\n",
      "\u001b[32m[2021-08-06 10:48:23,705] [    INFO]\u001b[0m - Successfully installed senta_bilstm-1.2.0\u001b[0m\n",
      "2021-08-06 10:48:25,153 - INFO - Lock 140231376917600 released on /Users/shadow/.paddlehub/tmp/senta_bilstm\n"
     ]
    }
   ],
   "source": [
    "#情绪分析\n",
    "!hub install senta_bilstm==1.2.0\n"
   ]
  },
  {
   "cell_type": "code",
   "execution_count": 25,
   "metadata": {},
   "outputs": [
    {
     "name": "stdout",
     "output_type": "stream",
     "text": [
      "2021-08-06 12:53:09,448 - INFO - Lock 140720289019024 acquired on /Users/shadow/.paddlehub/tmp/lac\n",
      "\u001b[32m[2021-08-06 12:53:09,528] [    INFO]\u001b[0m - Module lac-2.2.0 already installed in /Users/shadow/.paddlehub/modules/lac\u001b[0m\n",
      "2021-08-06 12:53:09,528 - INFO - Lock 140720289019024 released on /Users/shadow/.paddlehub/tmp/lac\n"
     ]
    }
   ],
   "source": [
    "!hub install lac==2.2.0"
   ]
  },
  {
   "cell_type": "code",
   "execution_count": 26,
   "metadata": {},
   "outputs": [
    {
     "name": "stderr",
     "output_type": "stream",
     "text": [
      "\u001b[33m[2021-08-06 12:53:23,472] [ WARNING]\u001b[0m - The _initialize method in HubModule will soon be deprecated, you can use the __init__() to handle the initialization of the object\u001b[0m\n"
     ]
    },
    {
     "name": "stdout",
     "output_type": "stream",
     "text": [
      "['今天', '是', '个', '好日子']\n",
      "['TIME', 'v', 'q', 'n']\n",
      "['天气预报', '说', '今天', '要', '下雨']\n",
      "['n', 'v', 'TIME', 'v', 'v']\n",
      "['下', '一班', '地铁', '马上', '就要', '到', '了']\n",
      "['f', 'm', 'n', 'd', 'v', 'v', 'xc']\n"
     ]
    }
   ],
   "source": [
    "lac = hub.Module(name=\"lac\")\n",
    "test_text = [\"今天是个好日子\", \"天气预报说今天要下雨\", \"下一班地铁马上就要到了\"]\n",
    "\n",
    "results = lac.cut(text=test_text, use_gpu=False, batch_size=1, return_tag=True)\n",
    "\n",
    "for result in results:\n",
    "    print(result['word'])\n",
    "    print(result['tag'])"
   ]
  },
  {
   "cell_type": "code",
   "execution_count": 19,
   "metadata": {},
   "outputs": [
    {
     "name": "stderr",
     "output_type": "stream",
     "text": [
      "\u001b[33m[2021-08-06 10:49:25,338] [ WARNING]\u001b[0m - The _initialize method in HubModule will soon be deprecated, you can use the __init__() to handle the initialization of the object\u001b[0m\n",
      "\u001b[33m[2021-08-06 10:49:27,722] [ WARNING]\u001b[0m - The _initialize method in HubModule will soon be deprecated, you can use the __init__() to handle the initialization of the object\u001b[0m\n"
     ]
    },
    {
     "name": "stdout",
     "output_type": "stream",
     "text": [
      "这家餐厅很好吃\n",
      "1\n",
      "positive\n",
      "0.9407\n",
      "0.0593\n",
      "这部电影真的很差劲\n",
      "0\n",
      "negative\n",
      "0.02\n",
      "0.98\n"
     ]
    }
   ],
   "source": [
    "import paddlehub as hub\n",
    "\n",
    "senta = hub.Module(name=\"senta_bilstm\")\n",
    "test_text = [\"这家餐厅很好吃\", \"这部电影真的很差劲\"]\n",
    "results = senta.sentiment_classify(texts=test_text, use_gpu=False, batch_size=1)\n",
    "\n",
    "for result in results:\n",
    "    print(result['text'])\n",
    "    print(result['sentiment_label'])\n",
    "    print(result['sentiment_key'])\n",
    "    print(result['positive_probs'])\n",
    "    print(result['negative_probs'])"
   ]
  },
  {
   "cell_type": "code",
   "execution_count": 1,
   "metadata": {},
   "outputs": [
    {
     "name": "stdout",
     "output_type": "stream",
     "text": [
      "2021-08-06 18:30:51,508 - INFO - Lock 140283973489760 acquired on /Users/shadow/.paddlehub/tmp/plato-mini\n",
      "Download https://bj.bcebos.com/paddlehub/paddlehub_dev/plato-mini_1.0.0.tar.gz\n",
      "[##################################################] 100.00%\n",
      "Decompress /Users/shadow/.paddlehub/tmp/tmp9ri19bjq/plato-mini_1.0.0.tar.gz\n",
      "[##################################################] 100.00%\n",
      "\u001b[32m[2021-08-06 18:32:59,283] [    INFO]\u001b[0m - Successfully installed dependent packages.\u001b[0mow/.paddlehub/tmp/tmpdr__ti16/plato-mini/requirements.txt: |\u001b[0m\n",
      "\u001b[32m[2021-08-06 18:32:59,480] [    INFO]\u001b[0m - Successfully installed plato-mini-1.0.0\u001b[0m\n",
      "2021-08-06 18:32:59,482 - INFO - Lock 140283973489760 released on /Users/shadow/.paddlehub/tmp/plato-mini\n"
     ]
    }
   ],
   "source": [
    "!hub install plato-mini==1.0.0"
   ]
  },
  {
   "cell_type": "code",
   "execution_count": null,
   "metadata": {},
   "outputs": [
    {
     "name": "stderr",
     "output_type": "stream",
     "text": [
      "/opt/anaconda3/lib/python3.8/site-packages/setuptools/distutils_patch.py:25: UserWarning: Distutils was imported before Setuptools. This usage is discouraged and may exhibit undesirable behaviors or errors. Please use Setuptools' objects directly or at least import Setuptools first.\n",
      "  warnings.warn(\n"
     ]
    }
   ],
   "source": [
    "# 非交互模式\n",
    "import paddlehub as hub\n",
    "\n",
    "model = hub.Module(name='plato-mini')\n"
   ]
  },
  {
   "cell_type": "code",
   "execution_count": null,
   "metadata": {},
   "outputs": [],
   "source": [
    "data = [[\"你是谁？\"], [\"你好啊。\", \"吃饭了吗？\",]]\n",
    "result = model.predict(data)"
   ]
  },
  {
   "cell_type": "code",
   "execution_count": null,
   "metadata": {},
   "outputs": [],
   "source": []
  }
 ],
 "metadata": {
  "kernelspec": {
   "display_name": "Python 3",
   "language": "python",
   "name": "python3"
  },
  "language_info": {
   "codemirror_mode": {
    "name": "ipython",
    "version": 3
   },
   "file_extension": ".py",
   "mimetype": "text/x-python",
   "name": "python",
   "nbconvert_exporter": "python",
   "pygments_lexer": "ipython3",
   "version": "3.8.3"
  }
 },
 "nbformat": 4,
 "nbformat_minor": 4
}
