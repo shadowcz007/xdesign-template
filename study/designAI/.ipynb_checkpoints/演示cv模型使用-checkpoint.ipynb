{
 "cells": [
  {
   "cell_type": "code",
   "execution_count": 2,
   "metadata": {},
   "outputs": [
    {
     "name": "stderr",
     "output_type": "stream",
     "text": [
      "/opt/anaconda3/lib/python3.8/site-packages/setuptools/distutils_patch.py:25: UserWarning: Distutils was imported before Setuptools. This usage is discouraged and may exhibit undesirable behaviors or errors. Please use Setuptools' objects directly or at least import Setuptools first.\n",
      "  warnings.warn(\n",
      "\u001b[33m[2021-08-06 13:32:25,865] [ WARNING]\u001b[0m - The _initialize method in HubModule will soon be deprecated, you can use the __init__() to handle the initialization of the object\u001b[0m\n"
     ]
    }
   ],
   "source": [
    "import paddlehub as hub\n",
    "import cv2\n",
    "\n",
    "stylepro_artistic = hub.Module(name=\"stylepro_artistic\")\n"
   ]
  },
  {
   "cell_type": "code",
   "execution_count": 3,
   "metadata": {},
   "outputs": [],
   "source": [
    "result = stylepro_artistic.style_transfer(\n",
    "    images=[{\n",
    "        'content': cv2.imread('test.png'),\n",
    "        'styles': [cv2.imread('style.jpeg')]\n",
    "    }])"
   ]
  },
  {
   "cell_type": "code",
   "execution_count": 4,
   "metadata": {},
   "outputs": [],
   "source": [
    "len(result)\n",
    "im=result[0]['data']"
   ]
  },
  {
   "cell_type": "code",
   "execution_count": 6,
   "metadata": {},
   "outputs": [
    {
     "data": {
      "text/plain": [
       "array([[[106,  61,  20],\n",
       "        [107,  61,  17],\n",
       "        [113,  68,  25],\n",
       "        ...,\n",
       "        [ 17,  22,   4],\n",
       "        [ 24,  28,  13],\n",
       "        [ 29,  31,  15]],\n",
       "\n",
       "       [[ 87,  54,   3],\n",
       "        [ 89,  53,   2],\n",
       "        [ 96,  62,  12],\n",
       "        ...,\n",
       "        [ 30,  26,  14],\n",
       "        [ 39,  38,  24],\n",
       "        [ 43,  41,  28]],\n",
       "\n",
       "       [[ 86,  53,  12],\n",
       "        [ 92,  55,  15],\n",
       "        [100,  67,  26],\n",
       "        ...,\n",
       "        [ 19,  18,   6],\n",
       "        [ 39,  39,  20],\n",
       "        [ 37,  33,  19]],\n",
       "\n",
       "       ...,\n",
       "\n",
       "       [[ 54,  58,  39],\n",
       "        [ 48,  54,  34],\n",
       "        [ 54,  66,  42],\n",
       "        ...,\n",
       "        [ 69,  69, 106],\n",
       "        [ 66,  71, 104],\n",
       "        [ 67,  69, 105]],\n",
       "\n",
       "       [[ 50,  52,  36],\n",
       "        [ 43,  48,  28],\n",
       "        [ 45,  58,  34],\n",
       "        ...,\n",
       "        [ 83,  91, 122],\n",
       "        [ 83,  94, 129],\n",
       "        [ 83,  88, 125]],\n",
       "\n",
       "       [[ 51,  53,  37],\n",
       "        [ 44,  48,  31],\n",
       "        [ 46,  55,  35],\n",
       "        ...,\n",
       "        [117, 126, 153],\n",
       "        [115, 122, 156],\n",
       "        [112, 118, 149]]], dtype=uint8)"
      ]
     },
     "execution_count": 6,
     "metadata": {},
     "output_type": "execute_result"
    }
   ],
   "source": []
  },
  {
   "cell_type": "code",
   "execution_count": 10,
   "metadata": {},
   "outputs": [
    {
     "data": {
      "text/plain": [
       "True"
      ]
     },
     "execution_count": 10,
     "metadata": {},
     "output_type": "execute_result"
    }
   ],
   "source": [
    "cv2.imwrite(\"image.png\", im) "
   ]
  },
  {
   "cell_type": "code",
   "execution_count": 7,
   "metadata": {},
   "outputs": [
    {
     "data": {
      "text/plain": [
       "<function imwrite>"
      ]
     },
     "execution_count": 7,
     "metadata": {},
     "output_type": "execute_result"
    }
   ],
   "source": []
  },
  {
   "cell_type": "code",
   "execution_count": null,
   "metadata": {},
   "outputs": [],
   "source": []
  }
 ],
 "metadata": {
  "kernelspec": {
   "display_name": "Python 3",
   "language": "python",
   "name": "python3"
  },
  "language_info": {
   "codemirror_mode": {
    "name": "ipython",
    "version": 3
   },
   "file_extension": ".py",
   "mimetype": "text/x-python",
   "name": "python",
   "nbconvert_exporter": "python",
   "pygments_lexer": "ipython3",
   "version": "3.8.3"
  }
 },
 "nbformat": 4,
 "nbformat_minor": 4
}
