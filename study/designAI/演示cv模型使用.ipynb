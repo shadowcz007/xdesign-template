{
 "cells": [
  {
   "cell_type": "code",
   "execution_count": 1,
   "metadata": {
    "scrolled": false
   },
   "outputs": [
    {
     "name": "stderr",
     "output_type": "stream",
     "text": [
      "/opt/anaconda3/lib/python3.8/site-packages/setuptools/distutils_patch.py:25: UserWarning: Distutils was imported before Setuptools. This usage is discouraged and may exhibit undesirable behaviors or errors. Please use Setuptools' objects directly or at least import Setuptools first.\n",
      "  warnings.warn(\n",
      "\u001b[33m[2021-08-06 18:25:10,828] [ WARNING]\u001b[0m - The _initialize method in HubModule will soon be deprecated, you can use the __init__() to handle the initialization of the object\u001b[0m\n"
     ]
    }
   ],
   "source": [
    "import paddlehub as hub\n",
    "import cv2\n",
    "\n",
    "stylepro_artistic = hub.Module(name=\"stylepro_artistic\")\n"
   ]
  },
  {
   "cell_type": "code",
   "execution_count": 9,
   "metadata": {},
   "outputs": [],
   "source": [
    "result = stylepro_artistic.style_transfer(\n",
    "    images=[{\n",
    "        'content': cv2.imread('test.png'),\n",
    "        'styles': [cv2.imread('style'+x+'.jpeg') for x in ['','1','2','3']]\n",
    "    }])"
   ]
  },
  {
   "cell_type": "code",
   "execution_count": 2,
   "metadata": {},
   "outputs": [],
   "source": [
    "result = stylepro_artistic.style_transfer(\n",
    "    images=[{\n",
    "        'content': cv2.imread('test2.png'),\n",
    "        'styles': [cv2.imread('style0.jpeg')]\n",
    "    }])"
   ]
  },
  {
   "cell_type": "code",
   "execution_count": 3,
   "metadata": {},
   "outputs": [
    {
     "data": {
      "text/plain": [
       "True"
      ]
     },
     "execution_count": 3,
     "metadata": {},
     "output_type": "execute_result"
    }
   ],
   "source": [
    "len(result)\n",
    "im=result[0]['data']\n",
    "cv2.imwrite(\"result.png\", im) "
   ]
  },
  {
   "cell_type": "code",
   "execution_count": null,
   "metadata": {},
   "outputs": [],
   "source": []
  },
  {
   "cell_type": "code",
   "execution_count": 17,
   "metadata": {},
   "outputs": [
    {
     "data": {
      "text/plain": [
       "True"
      ]
     },
     "execution_count": 17,
     "metadata": {},
     "output_type": "execute_result"
    }
   ],
   "source": [
    "cv2.imwrite(\"result.png\", im) "
   ]
  },
  {
   "cell_type": "code",
   "execution_count": 7,
   "metadata": {},
   "outputs": [
    {
     "data": {
      "text/plain": [
       "<function imwrite>"
      ]
     },
     "execution_count": 7,
     "metadata": {},
     "output_type": "execute_result"
    }
   ],
   "source": []
  },
  {
   "cell_type": "code",
   "execution_count": 23,
   "metadata": {},
   "outputs": [
    {
     "name": "stdout",
     "output_type": "stream",
     "text": [
      "2021-08-06 14:52:11,054 - INFO - Lock 140288805168272 acquired on /Users/shadow/.paddlehub/tmp/stgan_bald\n",
      "Download https://bj.bcebos.com/paddlehub/paddlehub_dev/stgan_bald.tar.gz\n",
      "[##################################################] 100.00%\n",
      "Decompress /Users/shadow/.paddlehub/tmp/tmplea9x2gs/stgan_bald.tar.gz\n",
      "[##################################################] 100.00%\n",
      "\u001b[32m[2021-08-06 14:54:39,226] [    INFO]\u001b[0m - Successfully installed dependent packages.\u001b[0mow/.paddlehub/tmp/tmpk7ayhg0l/stgan_bald/requirements.txt: |\u001b[0m\n",
      "\u001b[32m[2021-08-06 14:54:39,339] [    INFO]\u001b[0m - Successfully installed stgan_bald-1.0.0\u001b[0m\n",
      "2021-08-06 14:54:40,716 - INFO - Lock 140288805168272 released on /Users/shadow/.paddlehub/tmp/stgan_bald\n"
     ]
    }
   ],
   "source": [
    "!hub install stgan_bald==1.0.0"
   ]
  },
  {
   "cell_type": "code",
   "execution_count": 30,
   "metadata": {},
   "outputs": [
    {
     "name": "stderr",
     "output_type": "stream",
     "text": [
      "\u001b[33m[2021-08-06 14:57:56,419] [ WARNING]\u001b[0m - The _initialize method in HubModule will soon be deprecated, you can use the __init__() to handle the initialization of the object\u001b[0m\n"
     ]
    }
   ],
   "source": [
    "stgan_bald = hub.Module(name='stgan_bald')\n"
   ]
  },
  {
   "cell_type": "code",
   "execution_count": 51,
   "metadata": {},
   "outputs": [],
   "source": [
    "im = cv2.imread('test1.jpeg')\n"
   ]
  },
  {
   "cell_type": "code",
   "execution_count": 46,
   "metadata": {},
   "outputs": [
    {
     "name": "stdout",
     "output_type": "stream",
     "text": [
      "(667, 1000, 3)\n"
     ]
    },
    {
     "data": {
      "text/plain": [
       "(1000, 667, 3)"
      ]
     },
     "execution_count": 46,
     "metadata": {},
     "output_type": "execute_result"
    }
   ],
   "source": [
    "print(im.shape)\n",
    "trans_img = cv2.transpose(im)\n",
    "new_img = cv2.flip(trans_img, 1)\n",
    "new_img.shape"
   ]
  },
  {
   "cell_type": "code",
   "execution_count": 52,
   "metadata": {},
   "outputs": [],
   "source": [
    "res = stgan_bald.bald(images=[im],visualization=False)"
   ]
  },
  {
   "cell_type": "code",
   "execution_count": null,
   "metadata": {},
   "outputs": [],
   "source": []
  },
  {
   "cell_type": "code",
   "execution_count": 55,
   "metadata": {},
   "outputs": [
    {
     "data": {
      "text/plain": [
       "True"
      ]
     },
     "execution_count": 55,
     "metadata": {},
     "output_type": "execute_result"
    }
   ],
   "source": [
    "one_year =cv2.cvtColor(res[0]['data_0'], cv2.COLOR_RGB2BGR)\n",
    "three_year =cv2.cvtColor(res[0]['data_1'], cv2.COLOR_RGB2BGR)\n",
    "five_year =cv2.cvtColor(res[0]['data_2'], cv2.COLOR_RGB2BGR)\n",
    "cv2.imwrite(\"stgan_bald_server.png\", one_year)"
   ]
  },
  {
   "cell_type": "code",
   "execution_count": 42,
   "metadata": {},
   "outputs": [
    {
     "data": {
      "text/plain": [
       "True"
      ]
     },
     "execution_count": 42,
     "metadata": {},
     "output_type": "execute_result"
    }
   ],
   "source": [
    "cv2.imwrite(\"result\"+str(0)+\".png\", im) "
   ]
  },
  {
   "cell_type": "code",
   "execution_count": 41,
   "metadata": {},
   "outputs": [],
   "source": [
    "im=cv2.cvtColor(im,cv2.COLOR_BGR2RGB)"
   ]
  },
  {
   "cell_type": "code",
   "execution_count": 40,
   "metadata": {},
   "outputs": [],
   "source": [
    "im=res[0]['data_0']\n",
    "b, g, r = cv2.split(im) "
   ]
  },
  {
   "cell_type": "code",
   "execution_count": null,
   "metadata": {},
   "outputs": [],
   "source": [
    "merged = cv2.merge([b, g, r])"
   ]
  }
 ],
 "metadata": {
  "kernelspec": {
   "display_name": "Python 3",
   "language": "python",
   "name": "python3"
  },
  "language_info": {
   "codemirror_mode": {
    "name": "ipython",
    "version": 3
   },
   "file_extension": ".py",
   "mimetype": "text/x-python",
   "name": "python",
   "nbconvert_exporter": "python",
   "pygments_lexer": "ipython3",
   "version": "3.8.3"
  }
 },
 "nbformat": 4,
 "nbformat_minor": 4
}
